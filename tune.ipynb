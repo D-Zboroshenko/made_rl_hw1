{
 "cells": [
  {
   "cell_type": "code",
   "execution_count": 10,
   "metadata": {},
   "outputs": [],
   "source": [
    "import gym\n",
    "from gym import spaces\n",
    "from gym.utils import seeding\n",
    "import numpy as np\n",
    "\n",
    "from collections import defaultdict\n",
    "import sys\n",
    "import random\n",
    "from tqdm import tqdm, tqdm_notebook\n",
    "\n",
    "import matplotlib.pyplot as plt\n",
    "%matplotlib inline"
   ]
  },
  {
   "cell_type": "code",
   "execution_count": 1,
   "metadata": {},
   "outputs": [],
   "source": [
    "import ray\n",
    "from ray import tune"
   ]
  },
  {
   "cell_type": "code",
   "execution_count": 4,
   "metadata": {},
   "outputs": [],
   "source": [
    "from blackjack_count import BlackjackEnv"
   ]
  },
  {
   "cell_type": "code",
   "execution_count": 5,
   "metadata": {},
   "outputs": [],
   "source": [
    "env = BlackjackEnv(natural=True)"
   ]
  },
  {
   "cell_type": "code",
   "execution_count": 7,
   "metadata": {},
   "outputs": [],
   "source": [
    "# возвращаем вероятность лучшего действия согласно epsilon\n",
    "def get_probs(Q_s, epsilon, nA):\n",
    "    policy_s = np.ones(nA) * epsilon / nA\n",
    "    best_a = np.argmax(Q_s)\n",
    "    policy_s[best_a] = 1 - epsilon + (epsilon / nA)\n",
    "    return policy_s\n",
    "\n",
    "# обновляем Q\n",
    "def update_Q(env, episode, Q, alpha, gamma):\n",
    "    for s, a, r in episode:\n",
    "        first_occurence_idx = next(i for i,x in enumerate(episode) if x[0] == s)\n",
    "        G = sum([x[2]*(gamma**i) for i,x in enumerate(episode[first_occurence_idx:])])\n",
    "        Q[s][a] = Q[s][a] + alpha*(G - Q[s][a])\n",
    "    return Q\n",
    "\n",
    "# policy\n",
    "def mc_control_policy(Q, state, epsilon, nA):\n",
    "    if state in Q:\n",
    "        return np.random.choice(np.arange(nA), p=get_probs(Q[state], epsilon, nA))\n",
    "    else:\n",
    "        return None\n",
    "    \n",
    "# новый генератор эпизодов\n",
    "def generate_episode_from_Q(env, Q, epsilon, nA):\n",
    "    episode = []\n",
    "    state = env.reset()\n",
    "    while True:\n",
    "        \n",
    "        action = mc_control_policy(Q, state, epsilon, nA)\n",
    "        if action is None:\n",
    "            action = env.action_space.sample()\n",
    "            \n",
    "        next_state, reward, done, info = env.step(action)\n",
    "        episode.append((state, action, reward))\n",
    "        state = next_state\n",
    "        if done:\n",
    "            break\n",
    "    return episode"
   ]
  },
  {
   "cell_type": "code",
   "execution_count": 18,
   "metadata": {},
   "outputs": [],
   "source": [
    "# Monte-Carlo control\n",
    "def mc_control(env, num_episodes, alpha, gamma=1.0, eps_start=1.0, eps_decay=.99995, eps_min=0.01):\n",
    "    nA = env.action_space.n\n",
    "    Q = defaultdict(lambda: np.zeros(nA))\n",
    "    epsilon = eps_start\n",
    "    cum_reward = []\n",
    "    reward_hist = []\n",
    "    for i_episode in range(1, num_episodes+1):\n",
    "        #if i_episode % 1000 == 0:\n",
    "        #    print(\"\\rEpisode {}/{}.\".format(i_episode, num_episodes), end=\"\")\n",
    "        #    sys.stdout.flush()\n",
    "        \n",
    "        epsilon = max(epsilon*eps_decay, eps_min)\n",
    "        episode = generate_episode_from_Q(env, Q, epsilon, nA)\n",
    "        cum_reward.append(episode[-1][-1])\n",
    "        Q = update_Q(env, episode, Q, alpha, gamma)\n",
    "        \n",
    "        if i_episode % 100000 == 0:\n",
    "            avg_reward = []\n",
    "            for i in range(100000):#tqdm_notebook(range(100000)):\n",
    "                episode = generate_episode_from_Q(env, Q, .0, nA)\n",
    "                avg_reward.append(episode[-1][-1])\n",
    "            reward_hist.append(np.mean(avg_reward))\n",
    "    policy = dict((k,np.argmax(v)) for k, v in Q.items())\n",
    "    return policy, Q, cum_reward, reward_hist"
   ]
  },
  {
   "cell_type": "code",
   "execution_count": 13,
   "metadata": {},
   "outputs": [
    {
     "name": "stdout",
     "output_type": "stream",
     "text": [
      "Episode 50000/100000."
     ]
    },
    {
     "data": {
      "application/vnd.jupyter.widget-view+json": {
       "model_id": "b4aa1ea63fe14633a4f5a36c593a6cb0",
       "version_major": 2,
       "version_minor": 0
      },
      "text/plain": [
       "HBox(children=(IntProgress(value=0, max=100000), HTML(value='')))"
      ]
     },
     "metadata": {},
     "output_type": "display_data"
    },
    {
     "name": "stdout",
     "output_type": "stream",
     "text": [
      "\n",
      "Episode 100000/100000."
     ]
    },
    {
     "data": {
      "application/vnd.jupyter.widget-view+json": {
       "model_id": "cd8c5b8ab7074d1391695ceaa01a9588",
       "version_major": 2,
       "version_minor": 0
      },
      "text/plain": [
       "HBox(children=(IntProgress(value=0, max=100000), HTML(value='')))"
      ]
     },
     "metadata": {},
     "output_type": "display_data"
    },
    {
     "name": "stdout",
     "output_type": "stream",
     "text": [
      "\n",
      "CPU times: user 1min 52s, sys: 8.6 s, total: 2min 1s\n",
      "Wall time: 2min 3s\n"
     ]
    }
   ],
   "source": [
    "%%time\n",
    "policy, Q, cum_reward, reward_hist = mc_control(env, num_episodes = 100000, alpha = 0.02, \n",
    "                                                gamma=.90, eps_start=1.0, eps_decay=.999995, eps_min=0.01)"
   ]
  },
  {
   "cell_type": "code",
   "execution_count": 15,
   "metadata": {},
   "outputs": [
    {
     "data": {
      "text/plain": [
       "[-0.084705, -0.051925]"
      ]
     },
     "execution_count": 15,
     "metadata": {},
     "output_type": "execute_result"
    }
   ],
   "source": [
    "reward_hist"
   ]
  },
  {
   "cell_type": "code",
   "execution_count": 24,
   "metadata": {},
   "outputs": [],
   "source": [
    "def objective(alpha, gamma, eps_decay):\n",
    "    policy, Q, cum_reward, reward_hist = mc_control(env, \n",
    "                                                    num_episodes = 500000, \n",
    "                                                    alpha = alpha, \n",
    "                                                    gamma = gamma, \n",
    "                                                    eps_start = 1.0, \n",
    "                                                    eps_decay = eps_decay, \n",
    "                                                    eps_min = 0.01)\n",
    "    return reward_hist\n",
    "\n",
    "def training_function(config):\n",
    "    alpha, gamma, eps_decay = config[\"alpha\"], config[\"gamma\"], config['eps_decay']\n",
    "    reward_hist = objective(alpha, gamma, eps_decay)\n",
    "    for i in reward_hist:\n",
    "        tune.report(mean_loss = i)"
   ]
  },
  {
   "cell_type": "code",
   "execution_count": 26,
   "metadata": {},
   "outputs": [
    {
     "data": {
      "text/html": [
       "== Status ==<br>Memory usage on this node: 10.0/16.0 GiB<br>Using FIFO scheduling algorithm.<br>Resources requested: 1/4 CPUs, 0/0 GPUs, 0.0/3.56 GiB heap, 0.0/1.22 GiB objects<br>Result logdir: /Users/dimazborosenko/ray_results/training_function<br>Number of trials: 600 (599 PENDING, 1 RUNNING)<br><table>\n",
       "<thead>\n",
       "<tr><th>Trial name                   </th><th>status  </th><th>loc  </th><th style=\"text-align: right;\">  alpha</th><th style=\"text-align: right;\">  eps_decay</th><th style=\"text-align: right;\">  gamma</th></tr>\n",
       "</thead>\n",
       "<tbody>\n",
       "<tr><td>training_function_fc5ed_00001</td><td>PENDING </td><td>     </td><td style=\"text-align: right;\">   0.05</td><td style=\"text-align: right;\">    0.99995</td><td style=\"text-align: right;\">    0.9</td></tr>\n",
       "<tr><td>training_function_fc5ed_00002</td><td>PENDING </td><td>     </td><td style=\"text-align: right;\">   0.1 </td><td style=\"text-align: right;\">    0.99995</td><td style=\"text-align: right;\">    0.9</td></tr>\n",
       "<tr><td>training_function_fc5ed_00003</td><td>PENDING </td><td>     </td><td style=\"text-align: right;\">   0.15</td><td style=\"text-align: right;\">    0.99995</td><td style=\"text-align: right;\">    0.9</td></tr>\n",
       "<tr><td>training_function_fc5ed_00004</td><td>PENDING </td><td>     </td><td style=\"text-align: right;\">   0.2 </td><td style=\"text-align: right;\">    0.99995</td><td style=\"text-align: right;\">    0.9</td></tr>\n",
       "<tr><td>training_function_fc5ed_00005</td><td>PENDING </td><td>     </td><td style=\"text-align: right;\">   0.25</td><td style=\"text-align: right;\">    0.99995</td><td style=\"text-align: right;\">    0.9</td></tr>\n",
       "<tr><td>training_function_fc5ed_00006</td><td>PENDING </td><td>     </td><td style=\"text-align: right;\">   0.3 </td><td style=\"text-align: right;\">    0.99995</td><td style=\"text-align: right;\">    0.9</td></tr>\n",
       "<tr><td>training_function_fc5ed_00007</td><td>PENDING </td><td>     </td><td style=\"text-align: right;\">   0.35</td><td style=\"text-align: right;\">    0.99995</td><td style=\"text-align: right;\">    0.9</td></tr>\n",
       "<tr><td>training_function_fc5ed_00008</td><td>PENDING </td><td>     </td><td style=\"text-align: right;\">   0.4 </td><td style=\"text-align: right;\">    0.99995</td><td style=\"text-align: right;\">    0.9</td></tr>\n",
       "<tr><td>training_function_fc5ed_00009</td><td>PENDING </td><td>     </td><td style=\"text-align: right;\">   0.45</td><td style=\"text-align: right;\">    0.99995</td><td style=\"text-align: right;\">    0.9</td></tr>\n",
       "<tr><td>training_function_fc5ed_00010</td><td>PENDING </td><td>     </td><td style=\"text-align: right;\">   0.5 </td><td style=\"text-align: right;\">    0.99995</td><td style=\"text-align: right;\">    0.9</td></tr>\n",
       "<tr><td>training_function_fc5ed_00011</td><td>PENDING </td><td>     </td><td style=\"text-align: right;\">   0.55</td><td style=\"text-align: right;\">    0.99995</td><td style=\"text-align: right;\">    0.9</td></tr>\n",
       "<tr><td>training_function_fc5ed_00012</td><td>PENDING </td><td>     </td><td style=\"text-align: right;\">   0.6 </td><td style=\"text-align: right;\">    0.99995</td><td style=\"text-align: right;\">    0.9</td></tr>\n",
       "<tr><td>training_function_fc5ed_00013</td><td>PENDING </td><td>     </td><td style=\"text-align: right;\">   0.65</td><td style=\"text-align: right;\">    0.99995</td><td style=\"text-align: right;\">    0.9</td></tr>\n",
       "<tr><td>training_function_fc5ed_00014</td><td>PENDING </td><td>     </td><td style=\"text-align: right;\">   0.7 </td><td style=\"text-align: right;\">    0.99995</td><td style=\"text-align: right;\">    0.9</td></tr>\n",
       "<tr><td>training_function_fc5ed_00015</td><td>PENDING </td><td>     </td><td style=\"text-align: right;\">   0.75</td><td style=\"text-align: right;\">    0.99995</td><td style=\"text-align: right;\">    0.9</td></tr>\n",
       "<tr><td>training_function_fc5ed_00016</td><td>PENDING </td><td>     </td><td style=\"text-align: right;\">   0.8 </td><td style=\"text-align: right;\">    0.99995</td><td style=\"text-align: right;\">    0.9</td></tr>\n",
       "<tr><td>training_function_fc5ed_00017</td><td>PENDING </td><td>     </td><td style=\"text-align: right;\">   0.85</td><td style=\"text-align: right;\">    0.99995</td><td style=\"text-align: right;\">    0.9</td></tr>\n",
       "<tr><td>training_function_fc5ed_00018</td><td>PENDING </td><td>     </td><td style=\"text-align: right;\">   0.9 </td><td style=\"text-align: right;\">    0.99995</td><td style=\"text-align: right;\">    0.9</td></tr>\n",
       "<tr><td>training_function_fc5ed_00019</td><td>PENDING </td><td>     </td><td style=\"text-align: right;\">   0.95</td><td style=\"text-align: right;\">    0.99995</td><td style=\"text-align: right;\">    0.9</td></tr>\n",
       "<tr><td>training_function_fc5ed_00000</td><td>RUNNING </td><td>     </td><td style=\"text-align: right;\">   0   </td><td style=\"text-align: right;\">    0.99995</td><td style=\"text-align: right;\">    0.9</td></tr>\n",
       "</tbody>\n",
       "</table><br>... 580 more trials not shown (580 PENDING)<br><br>"
      ],
      "text/plain": [
       "<IPython.core.display.HTML object>"
      ]
     },
     "metadata": {},
     "output_type": "display_data"
    },
    {
     "name": "stdout",
     "output_type": "stream",
     "text": [
      "Episode 1000/500000.\u001b[0m \n",
      "Episode 1000/500000.\u001b[0m \n",
      "Episode 1000/500000.\u001b[0m \n",
      "Episode 2000/500000.\u001b[0m \n",
      "Episode 2000/500000.\u001b[0m \n",
      "Episode 2000/500000.\u001b[0m \n",
      "Episode 3000/500000.\u001b[0m \n",
      "Episode 3000/500000.\u001b[0m \n",
      "Episode 3000/500000.\u001b[0m \n",
      "Episode 1000/500000.\u001b[0m \n",
      "Episode 4000/500000.\u001b[0m \n",
      "Episode 4000/500000.\u001b[0m \n",
      "Episode 4000/500000.\u001b[0m \n",
      "Episode 2000/500000.\u001b[0m \n",
      "Episode 5000/500000.\u001b[0m \n",
      "Episode 5000/500000.\u001b[0m \n",
      "Episode 5000/500000.\u001b[0m \n",
      "Episode 3000/500000.\u001b[0m \n",
      "Episode 6000/500000.\u001b[0m \n",
      "Episode 6000/500000.\u001b[0m \n",
      "Episode 6000/500000.\u001b[0m \n",
      "Episode 4000/500000.\u001b[0m \n",
      "Episode 7000/500000.\u001b[0m \n",
      "Episode 7000/500000.\u001b[0m \n",
      "Episode 7000/500000.\u001b[0m \n",
      "Episode 5000/500000.\u001b[0m \n",
      "Episode 8000/500000.\u001b[0m \n",
      "Episode 8000/500000.\u001b[0m \n",
      "Episode 8000/500000.\u001b[0m \n",
      "Episode 6000/500000.\u001b[0m \n",
      "Episode 9000/500000.\u001b[0m \n",
      "Episode 9000/500000.\u001b[0m \n",
      "Episode 9000/500000.\u001b[0m \n",
      "Episode 7000/500000.\u001b[0m \n",
      "Episode 10000/500000.[0m \n",
      "Episode 10000/500000.[0m \n",
      "Episode 10000/500000.[0m \n",
      "Episode 8000/500000.\u001b[0m \n",
      "Episode 11000/500000.[0m \n",
      "Episode 11000/500000.[0m \n",
      "Episode 11000/500000.[0m \n",
      "Episode 9000/500000.\u001b[0m \n",
      "Episode 12000/500000.[0m \n",
      "Episode 12000/500000.[0m \n",
      "Episode 12000/500000.[0m \n",
      "Episode 10000/500000.[0m \n",
      "Episode 13000/500000.[0m \n",
      "Episode 13000/500000.[0m \n",
      "Episode 11000/500000.[0m \n",
      "Episode 13000/500000.[0m \n",
      "Episode 14000/500000.[0m \n",
      "Episode 14000/500000.[0m \n"
     ]
    },
    {
     "ename": "KeyboardInterrupt",
     "evalue": "",
     "output_type": "error",
     "traceback": [
      "\u001b[0;31m---------------------------------------------------------------------------\u001b[0m",
      "\u001b[0;31mKeyboardInterrupt\u001b[0m                         Traceback (most recent call last)",
      "\u001b[0;32m<ipython-input-26-a5cae772aac7>\u001b[0m in \u001b[0;36m<module>\u001b[0;34m\u001b[0m\n\u001b[1;32m      4\u001b[0m         \u001b[0;34m\"alpha\"\u001b[0m\u001b[0;34m:\u001b[0m \u001b[0mtune\u001b[0m\u001b[0;34m.\u001b[0m\u001b[0mgrid_search\u001b[0m\u001b[0;34m(\u001b[0m\u001b[0mlist\u001b[0m\u001b[0;34m(\u001b[0m\u001b[0mnp\u001b[0m\u001b[0;34m.\u001b[0m\u001b[0marange\u001b[0m\u001b[0;34m(\u001b[0m\u001b[0;36m0\u001b[0m\u001b[0;34m,\u001b[0m \u001b[0;36m1\u001b[0m\u001b[0;34m,\u001b[0m \u001b[0;36m0.05\u001b[0m\u001b[0;34m)\u001b[0m\u001b[0;34m)\u001b[0m\u001b[0;34m)\u001b[0m\u001b[0;34m,\u001b[0m\u001b[0;34m\u001b[0m\u001b[0;34m\u001b[0m\u001b[0m\n\u001b[1;32m      5\u001b[0m         \u001b[0;34m\"gamma\"\u001b[0m\u001b[0;34m:\u001b[0m \u001b[0mtune\u001b[0m\u001b[0;34m.\u001b[0m\u001b[0mgrid_search\u001b[0m\u001b[0;34m(\u001b[0m\u001b[0mlist\u001b[0m\u001b[0;34m(\u001b[0m\u001b[0mnp\u001b[0m\u001b[0;34m.\u001b[0m\u001b[0marange\u001b[0m\u001b[0;34m(\u001b[0m\u001b[0;36m0.9\u001b[0m\u001b[0;34m,\u001b[0m \u001b[0;36m1\u001b[0m\u001b[0;34m,\u001b[0m \u001b[0;36m0.01\u001b[0m\u001b[0;34m)\u001b[0m\u001b[0;34m)\u001b[0m\u001b[0;34m)\u001b[0m\u001b[0;34m,\u001b[0m\u001b[0;34m\u001b[0m\u001b[0;34m\u001b[0m\u001b[0m\n\u001b[0;32m----> 6\u001b[0;31m         \u001b[0;34m\"eps_decay\"\u001b[0m\u001b[0;34m:\u001b[0m \u001b[0mtune\u001b[0m\u001b[0;34m.\u001b[0m\u001b[0mgrid_search\u001b[0m\u001b[0;34m(\u001b[0m\u001b[0;34m[\u001b[0m\u001b[0;36m.99995\u001b[0m\u001b[0;34m,\u001b[0m \u001b[0;36m.999995\u001b[0m\u001b[0;34m,\u001b[0m \u001b[0;36m.9999995\u001b[0m\u001b[0;34m]\u001b[0m\u001b[0;34m)\u001b[0m\u001b[0;34m\u001b[0m\u001b[0;34m\u001b[0m\u001b[0m\n\u001b[0m\u001b[1;32m      7\u001b[0m     })\n",
      "\u001b[0;32m//anaconda3/lib/python3.7/site-packages/ray/tune/tune.py\u001b[0m in \u001b[0;36mrun\u001b[0;34m(run_or_experiment, name, metric, mode, stop, time_budget_s, config, resources_per_trial, num_samples, local_dir, search_alg, scheduler, keep_checkpoints_num, checkpoint_score_attr, checkpoint_freq, checkpoint_at_end, verbose, progress_reporter, loggers, log_to_file, trial_name_creator, trial_dirname_creator, sync_config, export_formats, max_failures, fail_fast, restore, server_port, resume, queue_trials, reuse_actors, trial_executor, raise_on_failed_trial, ray_auto_init, run_errored_only, global_checkpoint_period, with_server, upload_dir, sync_to_cloud, sync_to_driver, sync_on_checkpoint)\u001b[0m\n\u001b[1;32m    403\u001b[0m \u001b[0;34m\u001b[0m\u001b[0m\n\u001b[1;32m    404\u001b[0m     \u001b[0;32mwhile\u001b[0m \u001b[0;32mnot\u001b[0m \u001b[0mrunner\u001b[0m\u001b[0;34m.\u001b[0m\u001b[0mis_finished\u001b[0m\u001b[0;34m(\u001b[0m\u001b[0;34m)\u001b[0m\u001b[0;34m:\u001b[0m\u001b[0;34m\u001b[0m\u001b[0;34m\u001b[0m\u001b[0m\n\u001b[0;32m--> 405\u001b[0;31m         \u001b[0mrunner\u001b[0m\u001b[0;34m.\u001b[0m\u001b[0mstep\u001b[0m\u001b[0;34m(\u001b[0m\u001b[0;34m)\u001b[0m\u001b[0;34m\u001b[0m\u001b[0;34m\u001b[0m\u001b[0m\n\u001b[0m\u001b[1;32m    406\u001b[0m         \u001b[0;32mif\u001b[0m \u001b[0mverbose\u001b[0m\u001b[0;34m:\u001b[0m\u001b[0;34m\u001b[0m\u001b[0;34m\u001b[0m\u001b[0m\n\u001b[1;32m    407\u001b[0m             \u001b[0m_report_progress\u001b[0m\u001b[0;34m(\u001b[0m\u001b[0mrunner\u001b[0m\u001b[0;34m,\u001b[0m \u001b[0mprogress_reporter\u001b[0m\u001b[0;34m)\u001b[0m\u001b[0;34m\u001b[0m\u001b[0;34m\u001b[0m\u001b[0m\n",
      "\u001b[0;32m//anaconda3/lib/python3.7/site-packages/ray/tune/trial_runner.py\u001b[0m in \u001b[0;36mstep\u001b[0;34m(self)\u001b[0m\n\u001b[1;32m    373\u001b[0m                 \u001b[0mself\u001b[0m\u001b[0;34m.\u001b[0m\u001b[0mtrial_executor\u001b[0m\u001b[0;34m.\u001b[0m\u001b[0mstart_trial\u001b[0m\u001b[0;34m(\u001b[0m\u001b[0mnext_trial\u001b[0m\u001b[0;34m)\u001b[0m\u001b[0;34m\u001b[0m\u001b[0;34m\u001b[0m\u001b[0m\n\u001b[1;32m    374\u001b[0m         \u001b[0;32melif\u001b[0m \u001b[0mself\u001b[0m\u001b[0;34m.\u001b[0m\u001b[0mtrial_executor\u001b[0m\u001b[0;34m.\u001b[0m\u001b[0mget_running_trials\u001b[0m\u001b[0;34m(\u001b[0m\u001b[0;34m)\u001b[0m\u001b[0;34m:\u001b[0m\u001b[0;34m\u001b[0m\u001b[0;34m\u001b[0m\u001b[0m\n\u001b[0;32m--> 375\u001b[0;31m             \u001b[0mself\u001b[0m\u001b[0;34m.\u001b[0m\u001b[0m_process_events\u001b[0m\u001b[0;34m(\u001b[0m\u001b[0;34m)\u001b[0m  \u001b[0;31m# blocking\u001b[0m\u001b[0;34m\u001b[0m\u001b[0;34m\u001b[0m\u001b[0m\n\u001b[0m\u001b[1;32m    376\u001b[0m         \u001b[0;32melse\u001b[0m\u001b[0;34m:\u001b[0m\u001b[0;34m\u001b[0m\u001b[0;34m\u001b[0m\u001b[0m\n\u001b[1;32m    377\u001b[0m             \u001b[0mself\u001b[0m\u001b[0;34m.\u001b[0m\u001b[0mtrial_executor\u001b[0m\u001b[0;34m.\u001b[0m\u001b[0mon_no_available_trials\u001b[0m\u001b[0;34m(\u001b[0m\u001b[0mself\u001b[0m\u001b[0;34m)\u001b[0m\u001b[0;34m\u001b[0m\u001b[0;34m\u001b[0m\u001b[0m\n",
      "\u001b[0;32m//anaconda3/lib/python3.7/site-packages/ray/tune/trial_runner.py\u001b[0m in \u001b[0;36m_process_events\u001b[0;34m(self)\u001b[0m\n\u001b[1;32m    473\u001b[0m             \u001b[0;31m# TODO(ujvl): Consider combining get_next_available_trial and\u001b[0m\u001b[0;34m\u001b[0m\u001b[0;34m\u001b[0m\u001b[0;34m\u001b[0m\u001b[0m\n\u001b[1;32m    474\u001b[0m             \u001b[0;31m#  fetch_result functionality so that we don't timeout on fetch.\u001b[0m\u001b[0;34m\u001b[0m\u001b[0;34m\u001b[0m\u001b[0;34m\u001b[0m\u001b[0m\n\u001b[0;32m--> 475\u001b[0;31m             \u001b[0mtrial\u001b[0m \u001b[0;34m=\u001b[0m \u001b[0mself\u001b[0m\u001b[0;34m.\u001b[0m\u001b[0mtrial_executor\u001b[0m\u001b[0;34m.\u001b[0m\u001b[0mget_next_available_trial\u001b[0m\u001b[0;34m(\u001b[0m\u001b[0;34m)\u001b[0m  \u001b[0;31m# blocking\u001b[0m\u001b[0;34m\u001b[0m\u001b[0;34m\u001b[0m\u001b[0m\n\u001b[0m\u001b[1;32m    476\u001b[0m             \u001b[0;32mif\u001b[0m \u001b[0mtrial\u001b[0m\u001b[0;34m.\u001b[0m\u001b[0mis_restoring\u001b[0m\u001b[0;34m:\u001b[0m\u001b[0;34m\u001b[0m\u001b[0;34m\u001b[0m\u001b[0m\n\u001b[1;32m    477\u001b[0m                 \u001b[0;32mwith\u001b[0m \u001b[0mwarn_if_slow\u001b[0m\u001b[0;34m(\u001b[0m\u001b[0;34m\"process_trial_restore\"\u001b[0m\u001b[0;34m)\u001b[0m\u001b[0;34m:\u001b[0m\u001b[0;34m\u001b[0m\u001b[0;34m\u001b[0m\u001b[0m\n",
      "\u001b[0;32m//anaconda3/lib/python3.7/site-packages/ray/tune/ray_trial_executor.py\u001b[0m in \u001b[0;36mget_next_available_trial\u001b[0;34m(self)\u001b[0m\n\u001b[1;32m    461\u001b[0m         \u001b[0;31m# See https://github.com/ray-project/ray/issues/4211 for details.\u001b[0m\u001b[0;34m\u001b[0m\u001b[0;34m\u001b[0m\u001b[0;34m\u001b[0m\u001b[0m\n\u001b[1;32m    462\u001b[0m         \u001b[0mstart\u001b[0m \u001b[0;34m=\u001b[0m \u001b[0mtime\u001b[0m\u001b[0;34m.\u001b[0m\u001b[0mtime\u001b[0m\u001b[0;34m(\u001b[0m\u001b[0;34m)\u001b[0m\u001b[0;34m\u001b[0m\u001b[0;34m\u001b[0m\u001b[0m\n\u001b[0;32m--> 463\u001b[0;31m         \u001b[0;34m[\u001b[0m\u001b[0mresult_id\u001b[0m\u001b[0;34m]\u001b[0m\u001b[0;34m,\u001b[0m \u001b[0m_\u001b[0m \u001b[0;34m=\u001b[0m \u001b[0mray\u001b[0m\u001b[0;34m.\u001b[0m\u001b[0mwait\u001b[0m\u001b[0;34m(\u001b[0m\u001b[0mshuffled_results\u001b[0m\u001b[0;34m)\u001b[0m\u001b[0;34m\u001b[0m\u001b[0;34m\u001b[0m\u001b[0m\n\u001b[0m\u001b[1;32m    464\u001b[0m         \u001b[0mwait_time\u001b[0m \u001b[0;34m=\u001b[0m \u001b[0mtime\u001b[0m\u001b[0;34m.\u001b[0m\u001b[0mtime\u001b[0m\u001b[0;34m(\u001b[0m\u001b[0;34m)\u001b[0m \u001b[0;34m-\u001b[0m \u001b[0mstart\u001b[0m\u001b[0;34m\u001b[0m\u001b[0;34m\u001b[0m\u001b[0m\n\u001b[1;32m    465\u001b[0m         \u001b[0;32mif\u001b[0m \u001b[0mwait_time\u001b[0m \u001b[0;34m>\u001b[0m \u001b[0mNONTRIVIAL_WAIT_TIME_THRESHOLD_S\u001b[0m\u001b[0;34m:\u001b[0m\u001b[0;34m\u001b[0m\u001b[0;34m\u001b[0m\u001b[0m\n",
      "\u001b[0;32m//anaconda3/lib/python3.7/site-packages/ray/worker.py\u001b[0m in \u001b[0;36mwait\u001b[0;34m(object_refs, num_returns, timeout)\u001b[0m\n\u001b[1;32m   1556\u001b[0m             \u001b[0mnum_returns\u001b[0m\u001b[0;34m,\u001b[0m\u001b[0;34m\u001b[0m\u001b[0;34m\u001b[0m\u001b[0m\n\u001b[1;32m   1557\u001b[0m             \u001b[0mtimeout_milliseconds\u001b[0m\u001b[0;34m,\u001b[0m\u001b[0;34m\u001b[0m\u001b[0;34m\u001b[0m\u001b[0m\n\u001b[0;32m-> 1558\u001b[0;31m             \u001b[0mworker\u001b[0m\u001b[0;34m.\u001b[0m\u001b[0mcurrent_task_id\u001b[0m\u001b[0;34m,\u001b[0m\u001b[0;34m\u001b[0m\u001b[0;34m\u001b[0m\u001b[0m\n\u001b[0m\u001b[1;32m   1559\u001b[0m         )\n\u001b[1;32m   1560\u001b[0m         \u001b[0;32mreturn\u001b[0m \u001b[0mready_ids\u001b[0m\u001b[0;34m,\u001b[0m \u001b[0mremaining_ids\u001b[0m\u001b[0;34m\u001b[0m\u001b[0;34m\u001b[0m\u001b[0m\n",
      "\u001b[0;32mpython/ray/_raylet.pyx\u001b[0m in \u001b[0;36mray._raylet.CoreWorker.wait\u001b[0;34m()\u001b[0m\n",
      "\u001b[0;32mpython/ray/_raylet.pyx\u001b[0m in \u001b[0;36mray._raylet.check_status\u001b[0;34m()\u001b[0m\n",
      "\u001b[0;31mKeyboardInterrupt\u001b[0m: "
     ]
    }
   ],
   "source": [
    "analysis = tune.run(\n",
    "    training_function,\n",
    "    config={\n",
    "        \"alpha\": tune.grid_search(list(np.arange(0, 1, 0.05))),\n",
    "        \"gamma\": tune.grid_search(list(np.arange(0.9, 1, 0.01))),\n",
    "        \"eps_decay\": tune.grid_search([.99995, .999995, .9999995])\n",
    "    })"
   ]
  },
  {
   "cell_type": "code",
   "execution_count": 2,
   "metadata": {},
   "outputs": [
    {
     "name": "stderr",
     "output_type": "stream",
     "text": [
      "2020-11-04 10:53:08,321\tINFO services.py:1166 -- View the Ray dashboard at \u001b[1m\u001b[32mhttp://127.0.0.1:8265\u001b[39m\u001b[22m\n",
      "2020-11-04 10:53:09,547\tWARNING function_runner.py:486 -- Function checkpointing is disabled. This may result in unexpected behavior when using checkpointing features or certain schedulers. To enable, set the train function arguments to be `func(config, checkpoint_dir=None)`.\n"
     ]
    },
    {
     "data": {
      "text/html": [
       "== Status ==<br>Memory usage on this node: 10.1/16.0 GiB<br>Using FIFO scheduling algorithm.<br>Resources requested: 1/4 CPUs, 0/0 GPUs, 0.0/3.56 GiB heap, 0.0/1.22 GiB objects<br>Result logdir: /Users/dimazborosenko/ray_results/training_function<br>Number of trials: 3 (2 PENDING, 1 RUNNING)<br><table>\n",
       "<thead>\n",
       "<tr><th>Trial name                   </th><th>status  </th><th>loc  </th><th style=\"text-align: right;\">  alpha</th><th style=\"text-align: right;\">  beta</th></tr>\n",
       "</thead>\n",
       "<tbody>\n",
       "<tr><td>training_function_c8018_00000</td><td>RUNNING </td><td>     </td><td style=\"text-align: right;\">  0.001</td><td style=\"text-align: right;\">     1</td></tr>\n",
       "<tr><td>training_function_c8018_00001</td><td>PENDING </td><td>     </td><td style=\"text-align: right;\">  0.01 </td><td style=\"text-align: right;\">     1</td></tr>\n",
       "<tr><td>training_function_c8018_00002</td><td>PENDING </td><td>     </td><td style=\"text-align: right;\">  0.1  </td><td style=\"text-align: right;\">     2</td></tr>\n",
       "</tbody>\n",
       "</table><br><br>"
      ],
      "text/plain": [
       "<IPython.core.display.HTML object>"
      ]
     },
     "metadata": {},
     "output_type": "display_data"
    },
    {
     "name": "stdout",
     "output_type": "stream",
     "text": [
      "Result for training_function_c8018_00002:\n",
      "  date: 2020-11-04_10-53-12\n",
      "  done: false\n",
      "  experiment_id: 79beacd130ee4aaab426871128b14772\n",
      "  experiment_tag: 2_alpha=0.1,beta=2\n",
      "  hostname: MacBook-Air-Dima.local\n",
      "  iterations_since_restore: 1\n",
      "  mean_loss: 10.2\n",
      "  neg_mean_loss: -10.2\n",
      "  node_ip: 192.168.1.129\n",
      "  pid: 93587\n",
      "  time_since_restore: 0.0024771690368652344\n",
      "  time_this_iter_s: 0.0024771690368652344\n",
      "  time_total_s: 0.0024771690368652344\n",
      "  timestamp: 1604476392\n",
      "  timesteps_since_restore: 0\n",
      "  training_iteration: 1\n",
      "  trial_id: c8018_00002\n",
      "  \n",
      "Result for training_function_c8018_00000:\n",
      "  date: 2020-11-04_10-53-12\n",
      "  done: false\n",
      "  experiment_id: a54b0093c54c4aa4b866b10ba4e6a5f5\n",
      "  experiment_tag: 0_alpha=0.001,beta=1\n",
      "  hostname: MacBook-Air-Dima.local\n",
      "  iterations_since_restore: 1\n",
      "  mean_loss: 10.1\n",
      "  neg_mean_loss: -10.1\n",
      "  node_ip: 192.168.1.129\n",
      "  pid: 93590\n",
      "  time_since_restore: 0.0018069744110107422\n",
      "  time_this_iter_s: 0.0018069744110107422\n",
      "  time_total_s: 0.0018069744110107422\n",
      "  timestamp: 1604476392\n",
      "  timesteps_since_restore: 0\n",
      "  training_iteration: 1\n",
      "  trial_id: c8018_00000\n",
      "  \n",
      "Result for training_function_c8018_00001:\n",
      "  date: 2020-11-04_10-53-12\n",
      "  done: false\n",
      "  experiment_id: 6aa08fe4e9ff434e9f9d923b030b6961\n",
      "  experiment_tag: 1_alpha=0.01,beta=1\n",
      "  hostname: MacBook-Air-Dima.local\n",
      "  iterations_since_restore: 1\n",
      "  mean_loss: 10.1\n",
      "  neg_mean_loss: -10.1\n",
      "  node_ip: 192.168.1.129\n",
      "  pid: 93588\n",
      "  time_since_restore: 0.0014379024505615234\n",
      "  time_this_iter_s: 0.0014379024505615234\n",
      "  time_total_s: 0.0014379024505615234\n",
      "  timestamp: 1604476392\n",
      "  timesteps_since_restore: 0\n",
      "  training_iteration: 1\n",
      "  trial_id: c8018_00001\n",
      "  \n"
     ]
    },
    {
     "data": {
      "text/html": [
       "== Status ==<br>Memory usage on this node: 10.1/16.0 GiB<br>Using FIFO scheduling algorithm.<br>Resources requested: 0/4 CPUs, 0/0 GPUs, 0.0/3.56 GiB heap, 0.0/1.22 GiB objects<br>Result logdir: /Users/dimazborosenko/ray_results/training_function<br>Number of trials: 3 (3 TERMINATED)<br><table>\n",
       "<thead>\n",
       "<tr><th>Trial name                   </th><th>status    </th><th>loc  </th><th style=\"text-align: right;\">  alpha</th><th style=\"text-align: right;\">  beta</th><th style=\"text-align: right;\">    loss</th><th style=\"text-align: right;\">  iter</th><th style=\"text-align: right;\">  total time (s)</th><th style=\"text-align: right;\">  neg_mean_loss</th></tr>\n",
       "</thead>\n",
       "<tbody>\n",
       "<tr><td>training_function_c8018_00000</td><td>TERMINATED</td><td>     </td><td style=\"text-align: right;\">  0.001</td><td style=\"text-align: right;\">     1</td><td style=\"text-align: right;\">10.091  </td><td style=\"text-align: right;\">    10</td><td style=\"text-align: right;\">        0.13094 </td><td style=\"text-align: right;\">      -10.091  </td></tr>\n",
       "<tr><td>training_function_c8018_00001</td><td>TERMINATED</td><td>     </td><td style=\"text-align: right;\">  0.01 </td><td style=\"text-align: right;\">     1</td><td style=\"text-align: right;\">10.0108 </td><td style=\"text-align: right;\">    10</td><td style=\"text-align: right;\">        0.181395</td><td style=\"text-align: right;\">      -10.0108 </td></tr>\n",
       "<tr><td>training_function_c8018_00002</td><td>TERMINATED</td><td>     </td><td style=\"text-align: right;\">  0.1  </td><td style=\"text-align: right;\">     2</td><td style=\"text-align: right;\"> 9.37431</td><td style=\"text-align: right;\">    10</td><td style=\"text-align: right;\">        0.124194</td><td style=\"text-align: right;\">       -9.37431</td></tr>\n",
       "</tbody>\n",
       "</table><br><br>"
      ],
      "text/plain": [
       "<IPython.core.display.HTML object>"
      ]
     },
     "metadata": {},
     "output_type": "display_data"
    },
    {
     "name": "stdout",
     "output_type": "stream",
     "text": [
      "Best config:  {'alpha': 0.1, 'beta': 2}\n"
     ]
    }
   ],
   "source": [
    "print(\"Best config: \", analysis.get_best_config(metric=\"mean_loss\", mode=\"min\"))\n",
    "\n",
    "# Get a dataframe for analyzing trial results.\n",
    "df = analysis.results_df"
   ]
  },
  {
   "cell_type": "code",
   "execution_count": null,
   "metadata": {},
   "outputs": [],
   "source": []
  }
 ],
 "metadata": {
  "kernelspec": {
   "display_name": "Python 3",
   "language": "python",
   "name": "python3"
  },
  "language_info": {
   "codemirror_mode": {
    "name": "ipython",
    "version": 3
   },
   "file_extension": ".py",
   "mimetype": "text/x-python",
   "name": "python",
   "nbconvert_exporter": "python",
   "pygments_lexer": "ipython3",
   "version": "3.7.3"
  }
 },
 "nbformat": 4,
 "nbformat_minor": 2
}
