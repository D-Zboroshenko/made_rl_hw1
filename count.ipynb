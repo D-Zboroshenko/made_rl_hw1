{
 "cells": [
  {
   "cell_type": "code",
   "execution_count": 203,
   "metadata": {},
   "outputs": [
    {
     "name": "stderr",
     "output_type": "stream",
     "text": [
      "\n",
      "\n",
      "  9%|▉         | 8936/100000 [00:21<00:56, 1598.75it/s]\u001b[A\u001b[A"
     ]
    }
   ],
   "source": [
    "import numpy as np\n",
    "\n",
    "import gym\n",
    "from gym import spaces\n",
    "from gym.utils import seeding\n",
    "from collections import defaultdict\n",
    "import sys\n",
    "import random\n",
    "from tqdm import tqdm, tqdm_notebook\n",
    "\n",
    "import matplotlib.pyplot as plt\n",
    "%matplotlib inline"
   ]
  },
  {
   "cell_type": "code",
   "execution_count": 176,
   "metadata": {},
   "outputs": [],
   "source": [
    "def is_natural(hand):  # Is this hand a natural blackjack?\n",
    "    return sorted(hand) == [1, 10]\n",
    "\n",
    "def shuffle_deck(num_decks = 4):\n",
    "    deck = [num_decks for i in range(9)]\n",
    "    deck.append(num_decks * 4)\n",
    "    return np.array(deck)\n",
    "\n",
    "def usable_ace(hand):\n",
    "    return 1 in hand and sum(hand) + 10 <= 21\n",
    "\n",
    "def sum_hand(hand):\n",
    "    if usable_ace(hand):\n",
    "        return sum(hand) + 10\n",
    "    return sum(hand)\n",
    "\n",
    "def is_bust(hand):\n",
    "    return sum_hand(hand) > 21\n",
    "\n",
    "def score(hand):\n",
    "    return 0 if is_bust(hand) else sum_hand(hand)\n",
    "\n",
    "def cmp(a, b):\n",
    "    return float(a > b) - float(a < b)"
   ]
  },
  {
   "cell_type": "code",
   "execution_count": 171,
   "metadata": {},
   "outputs": [],
   "source": [
    "class BlackjackEnv(gym.Env):\n",
    "    def __init__(self, natural=False):\n",
    "        self.action_space = spaces.Discrete(3)\n",
    "        self.observation_space = spaces.Tuple((\n",
    "            spaces.Discrete(32),\n",
    "            spaces.Discrete(11),\n",
    "            spaces.Discrete(2),\n",
    "            spaces.Discrete(21)))\n",
    "        self.natural = natural\n",
    "        self.shuffle()\n",
    "        self.points = np.array([[-1, 1, 1, 1, 1, 1, 0, 0, 0, -1]])\n",
    "        self.reset()\n",
    "    \n",
    "    def shuffle(self):\n",
    "        self.deck = shuffle_deck()\n",
    "        \n",
    "    def draw_card(self):\n",
    "        card = np.random.choice(np.arange(1, 11), p=self.deck / self.deck.sum())\n",
    "        self.deck[card - 1] -= 1\n",
    "        if sum(self.deck) < 15:\n",
    "            self.shuffle()\n",
    "        return card\n",
    "    \n",
    "    def draw_hand(self):\n",
    "        return [self.draw_card(), self.draw_card()]\n",
    "        \n",
    "    def step(self, action):\n",
    "        assert self.action_space.contains(action)\n",
    "        if action == 1:\n",
    "            self.player.append(self.draw_card())\n",
    "            if is_bust(self.player):\n",
    "                done = True\n",
    "                reward = -1.\n",
    "            else:\n",
    "                done = False\n",
    "                reward = 0.\n",
    "        if action == 2:\n",
    "            self.player.append(self.draw_card())\n",
    "            done = True\n",
    "            if is_bust(self.player):\n",
    "                reward = -2.\n",
    "            else:\n",
    "                while sum_hand(self.dealer) < 17:\n",
    "                    self.dealer.append(self.draw_card()) \n",
    "                reward = cmp(score(self.player), score(self.dealer)) * 2.\n",
    "        else:\n",
    "            done = True\n",
    "            while sum_hand(self.dealer) < 17:\n",
    "                self.dealer.append(self.draw_card())\n",
    "            reward = cmp(score(self.player), score(self.dealer))\n",
    "            if self.natural and is_natural(self.player) and reward == 1.:\n",
    "                reward = 1.5\n",
    "        return self._get_obs(), reward, done, {}\n",
    "    \n",
    "    def _get_obs(self):\n",
    "        counter = shuffle_deck() - self.deck\n",
    "        for i in self.dealer[1:]:\n",
    "            counter[i - 1] -= 1\n",
    "        counter = self.points.dot(counter)[0]\n",
    "        return (sum_hand(self.player), self.dealer[0], usable_ace(self.player), counter)\n",
    "    \n",
    "    def reset(self):\n",
    "        self.dealer = self.draw_hand()\n",
    "        self.player = self.draw_hand()\n",
    "        return self._get_obs()"
   ]
  },
  {
   "cell_type": "code",
   "execution_count": 172,
   "metadata": {},
   "outputs": [],
   "source": [
    "env = BlackjackEnv(natural=True)"
   ]
  },
  {
   "cell_type": "code",
   "execution_count": 129,
   "metadata": {},
   "outputs": [],
   "source": [
    "def plot_blackjack(V, ax1, ax2):\n",
    "    player_sum = np.arange(12, 21 + 1)\n",
    "    dealer_show = np.arange(1, 10 + 1)         \n",
    "    usable_ace = np.array([False, True])\n",
    "    state_values = np.zeros((len(player_sum), len(dealer_show), len(usable_ace)))\n",
    "    for i, player in enumerate(player_sum):\n",
    "        for j, dealer in enumerate(dealer_show):\n",
    "            for k, ace in enumerate(usable_ace):\n",
    "                state_values[i, j, k] = V.get((player, dealer, ace), 0)\n",
    "    X, Y = np.meshgrid(player_sum, dealer_show)\n",
    "    ax1.plot_wireframe(X, Y, state_values[:, :, 0])   \n",
    "    ax2.plot_wireframe(X, Y, state_values[:, :, 1])\n",
    "    for ax in ax1, ax2:    \n",
    "        ax.set_zlim(-1, 1)\n",
    "        ax.set_ylabel('player sum')\n",
    "        ax.set_xlabel('dealer sum')\n",
    "        ax.set_zlabel('state-value')"
   ]
  },
  {
   "cell_type": "code",
   "execution_count": 173,
   "metadata": {},
   "outputs": [],
   "source": [
    "# возвращаем вероятность лучшего действия согласно epsilon\n",
    "def get_probs(Q_s, epsilon, nA):\n",
    "    policy_s = np.ones(nA) * epsilon / nA\n",
    "    best_a = np.argmax(Q_s)\n",
    "    policy_s[best_a] = 1 - epsilon + (epsilon / nA)\n",
    "    return policy_s\n",
    "\n",
    "# обновляем Q\n",
    "def update_Q(env, episode, Q, alpha, gamma):\n",
    "    for s, a, r in episode:\n",
    "        first_occurence_idx = next(i for i,x in enumerate(episode) if x[0] == s)\n",
    "        G = sum([x[2]*(gamma**i) for i,x in enumerate(episode[first_occurence_idx:])])\n",
    "        Q[s][a] = Q[s][a] + alpha*(G - Q[s][a])\n",
    "    return Q\n",
    "\n",
    "# policy\n",
    "def mc_control_policy(Q, state, epsilon, nA):\n",
    "    if state in Q:\n",
    "        return np.random.choice(np.arange(nA), p=get_probs(Q[state], epsilon, nA))\n",
    "    else:\n",
    "        return None\n",
    "    \n",
    "# новый генератор эпизодов\n",
    "def generate_episode_from_Q(env, Q, epsilon, nA):\n",
    "    episode = []\n",
    "    state = env.reset()\n",
    "    while True:\n",
    "        \n",
    "        action = mc_control_policy(Q, state, epsilon, nA)\n",
    "        if action is None:\n",
    "            action = env.action_space.sample()\n",
    "            \n",
    "        next_state, reward, done, info = env.step(action)\n",
    "        episode.append((state, action, reward))\n",
    "        state = next_state\n",
    "        if done:\n",
    "            break\n",
    "    return episode"
   ]
  },
  {
   "cell_type": "code",
   "execution_count": 204,
   "metadata": {},
   "outputs": [],
   "source": [
    "# Monte-Carlo control\n",
    "def mc_control(env, num_episodes, alpha, gamma=1.0, eps_start=1.0, eps_decay=.99995, eps_min=0.01):\n",
    "    nA = env.action_space.n\n",
    "    Q = defaultdict(lambda: np.zeros(nA))\n",
    "    epsilon = eps_start\n",
    "    cum_reward = []\n",
    "    reward_hist = []\n",
    "    for i_episode in range(1, num_episodes+1):\n",
    "        if i_episode % 1000 == 0:\n",
    "            print(\"\\rEpisode {}/{}.\".format(i_episode, num_episodes), end=\"\")\n",
    "            sys.stdout.flush()\n",
    "        \n",
    "        epsilon = max(epsilon*eps_decay, eps_min)\n",
    "        episode = generate_episode_from_Q(env, Q, epsilon, nA)\n",
    "        cum_reward.append(episode[-1][-1])\n",
    "        Q = update_Q(env, episode, Q, alpha, gamma)\n",
    "        \n",
    "        if i_episode % 50000 == 0:\n",
    "            avg_reward = []\n",
    "            for i in tqdm_notebook(range(100000)):\n",
    "                episode = generate_episode_from_Q(env, Q, .0, nA)\n",
    "                avg_reward.append(episode[-1][-1])\n",
    "            reward_hist.append(np.mean(avg_reward))\n",
    "    policy = dict((k,np.argmax(v)) for k, v in Q.items())\n",
    "    return policy, Q, cum_reward, reward_hist"
   ]
  },
  {
   "cell_type": "code",
   "execution_count": 207,
   "metadata": {},
   "outputs": [
    {
     "name": "stdout",
     "output_type": "stream",
     "text": [
      "Episode 50000/1000000."
     ]
    },
    {
     "data": {
      "application/vnd.jupyter.widget-view+json": {
       "model_id": "6a1c23cf68f94b1d8898d0e46cbb80da",
       "version_major": 2,
       "version_minor": 0
      },
      "text/plain": [
       "HBox(children=(IntProgress(value=0, max=100000), HTML(value='')))"
      ]
     },
     "metadata": {},
     "output_type": "display_data"
    },
    {
     "name": "stdout",
     "output_type": "stream",
     "text": [
      "Episode 100000/1000000."
     ]
    },
    {
     "data": {
      "application/vnd.jupyter.widget-view+json": {
       "model_id": "ce13830e8c7b420d96c068312dc1ebb7",
       "version_major": 2,
       "version_minor": 0
      },
      "text/plain": [
       "HBox(children=(IntProgress(value=0, max=100000), HTML(value='')))"
      ]
     },
     "metadata": {},
     "output_type": "display_data"
    },
    {
     "name": "stdout",
     "output_type": "stream",
     "text": [
      "Episode 150000/1000000."
     ]
    },
    {
     "data": {
      "application/vnd.jupyter.widget-view+json": {
       "model_id": "e7083e1a93af4712b22e92be1aad44b0",
       "version_major": 2,
       "version_minor": 0
      },
      "text/plain": [
       "HBox(children=(IntProgress(value=0, max=100000), HTML(value='')))"
      ]
     },
     "metadata": {},
     "output_type": "display_data"
    },
    {
     "name": "stdout",
     "output_type": "stream",
     "text": [
      "Episode 200000/1000000."
     ]
    },
    {
     "data": {
      "application/vnd.jupyter.widget-view+json": {
       "model_id": "1d99a88e3e3a4b78956773ff13d330ef",
       "version_major": 2,
       "version_minor": 0
      },
      "text/plain": [
       "HBox(children=(IntProgress(value=0, max=100000), HTML(value='')))"
      ]
     },
     "metadata": {},
     "output_type": "display_data"
    },
    {
     "name": "stdout",
     "output_type": "stream",
     "text": [
      "Episode 250000/1000000."
     ]
    },
    {
     "data": {
      "application/vnd.jupyter.widget-view+json": {
       "model_id": "dff3afa55849478bbb87cf825897599f",
       "version_major": 2,
       "version_minor": 0
      },
      "text/plain": [
       "HBox(children=(IntProgress(value=0, max=100000), HTML(value='')))"
      ]
     },
     "metadata": {},
     "output_type": "display_data"
    },
    {
     "name": "stdout",
     "output_type": "stream",
     "text": [
      "Episode 300000/1000000."
     ]
    },
    {
     "data": {
      "application/vnd.jupyter.widget-view+json": {
       "model_id": "3d8adc59ef9645cda0b502d905fb09fb",
       "version_major": 2,
       "version_minor": 0
      },
      "text/plain": [
       "HBox(children=(IntProgress(value=0, max=100000), HTML(value='')))"
      ]
     },
     "metadata": {},
     "output_type": "display_data"
    },
    {
     "name": "stdout",
     "output_type": "stream",
     "text": [
      "Episode 350000/1000000."
     ]
    },
    {
     "data": {
      "application/vnd.jupyter.widget-view+json": {
       "model_id": "6ea55a367e494025bc9c513beca8731b",
       "version_major": 2,
       "version_minor": 0
      },
      "text/plain": [
       "HBox(children=(IntProgress(value=0, max=100000), HTML(value='')))"
      ]
     },
     "metadata": {},
     "output_type": "display_data"
    },
    {
     "name": "stdout",
     "output_type": "stream",
     "text": [
      "Episode 400000/1000000."
     ]
    },
    {
     "data": {
      "application/vnd.jupyter.widget-view+json": {
       "model_id": "199ee5b89f12435383e24acf9f1c46ea",
       "version_major": 2,
       "version_minor": 0
      },
      "text/plain": [
       "HBox(children=(IntProgress(value=0, max=100000), HTML(value='')))"
      ]
     },
     "metadata": {},
     "output_type": "display_data"
    },
    {
     "name": "stdout",
     "output_type": "stream",
     "text": [
      "Episode 450000/1000000."
     ]
    },
    {
     "data": {
      "application/vnd.jupyter.widget-view+json": {
       "model_id": "6983dacf452d4f56bc1349adf0aed1af",
       "version_major": 2,
       "version_minor": 0
      },
      "text/plain": [
       "HBox(children=(IntProgress(value=0, max=100000), HTML(value='')))"
      ]
     },
     "metadata": {},
     "output_type": "display_data"
    },
    {
     "name": "stdout",
     "output_type": "stream",
     "text": [
      "Episode 500000/1000000."
     ]
    },
    {
     "data": {
      "application/vnd.jupyter.widget-view+json": {
       "model_id": "11f4e101baf347dfaa6aee80f08a3634",
       "version_major": 2,
       "version_minor": 0
      },
      "text/plain": [
       "HBox(children=(IntProgress(value=0, max=100000), HTML(value='')))"
      ]
     },
     "metadata": {},
     "output_type": "display_data"
    },
    {
     "name": "stdout",
     "output_type": "stream",
     "text": [
      "Episode 550000/1000000."
     ]
    },
    {
     "data": {
      "application/vnd.jupyter.widget-view+json": {
       "model_id": "ca6aa9492b8742eebcf52c88987e152a",
       "version_major": 2,
       "version_minor": 0
      },
      "text/plain": [
       "HBox(children=(IntProgress(value=0, max=100000), HTML(value='')))"
      ]
     },
     "metadata": {},
     "output_type": "display_data"
    },
    {
     "name": "stdout",
     "output_type": "stream",
     "text": [
      "Episode 600000/1000000."
     ]
    },
    {
     "data": {
      "application/vnd.jupyter.widget-view+json": {
       "model_id": "f3d14337365649429e3c95991b783310",
       "version_major": 2,
       "version_minor": 0
      },
      "text/plain": [
       "HBox(children=(IntProgress(value=0, max=100000), HTML(value='')))"
      ]
     },
     "metadata": {},
     "output_type": "display_data"
    },
    {
     "name": "stdout",
     "output_type": "stream",
     "text": [
      "Episode 650000/1000000."
     ]
    },
    {
     "data": {
      "application/vnd.jupyter.widget-view+json": {
       "model_id": "c4a77d76d6c64d3dab65b063e9f26224",
       "version_major": 2,
       "version_minor": 0
      },
      "text/plain": [
       "HBox(children=(IntProgress(value=0, max=100000), HTML(value='')))"
      ]
     },
     "metadata": {},
     "output_type": "display_data"
    },
    {
     "name": "stdout",
     "output_type": "stream",
     "text": [
      "Episode 700000/1000000."
     ]
    },
    {
     "data": {
      "application/vnd.jupyter.widget-view+json": {
       "model_id": "afa57da1eb814600b9b4b0fff97535c7",
       "version_major": 2,
       "version_minor": 0
      },
      "text/plain": [
       "HBox(children=(IntProgress(value=0, max=100000), HTML(value='')))"
      ]
     },
     "metadata": {},
     "output_type": "display_data"
    },
    {
     "name": "stdout",
     "output_type": "stream",
     "text": [
      "Episode 750000/1000000."
     ]
    },
    {
     "data": {
      "application/vnd.jupyter.widget-view+json": {
       "model_id": "87b5e00a720f4636a3647a015b4d3563",
       "version_major": 2,
       "version_minor": 0
      },
      "text/plain": [
       "HBox(children=(IntProgress(value=0, max=100000), HTML(value='')))"
      ]
     },
     "metadata": {},
     "output_type": "display_data"
    },
    {
     "name": "stdout",
     "output_type": "stream",
     "text": [
      "Episode 800000/1000000."
     ]
    },
    {
     "data": {
      "application/vnd.jupyter.widget-view+json": {
       "model_id": "9e954991685647c2a57866c9b75ac52b",
       "version_major": 2,
       "version_minor": 0
      },
      "text/plain": [
       "HBox(children=(IntProgress(value=0, max=100000), HTML(value='')))"
      ]
     },
     "metadata": {},
     "output_type": "display_data"
    },
    {
     "name": "stdout",
     "output_type": "stream",
     "text": [
      "Episode 850000/1000000."
     ]
    },
    {
     "data": {
      "application/vnd.jupyter.widget-view+json": {
       "model_id": "ecef0085ba7c4a0ea2a857777e8b2bbc",
       "version_major": 2,
       "version_minor": 0
      },
      "text/plain": [
       "HBox(children=(IntProgress(value=0, max=100000), HTML(value='')))"
      ]
     },
     "metadata": {},
     "output_type": "display_data"
    },
    {
     "name": "stdout",
     "output_type": "stream",
     "text": [
      "Episode 900000/1000000."
     ]
    },
    {
     "data": {
      "application/vnd.jupyter.widget-view+json": {
       "model_id": "a0d26071bdb14bc095bb38913ce2097f",
       "version_major": 2,
       "version_minor": 0
      },
      "text/plain": [
       "HBox(children=(IntProgress(value=0, max=100000), HTML(value='')))"
      ]
     },
     "metadata": {},
     "output_type": "display_data"
    },
    {
     "name": "stdout",
     "output_type": "stream",
     "text": [
      "Episode 950000/1000000."
     ]
    },
    {
     "data": {
      "application/vnd.jupyter.widget-view+json": {
       "model_id": "1a48e7b6e1fc45e8800bd143abf3b4d3",
       "version_major": 2,
       "version_minor": 0
      },
      "text/plain": [
       "HBox(children=(IntProgress(value=0, max=100000), HTML(value='')))"
      ]
     },
     "metadata": {},
     "output_type": "display_data"
    },
    {
     "name": "stdout",
     "output_type": "stream",
     "text": [
      "Episode 1000000/1000000."
     ]
    },
    {
     "data": {
      "application/vnd.jupyter.widget-view+json": {
       "model_id": "78c1255d71774920828a9f59f66a14f1",
       "version_major": 2,
       "version_minor": 0
      },
      "text/plain": [
       "HBox(children=(IntProgress(value=0, max=100000), HTML(value='')))"
      ]
     },
     "metadata": {},
     "output_type": "display_data"
    }
   ],
   "source": [
    "policy, Q, cum_reward, reward_hist = mc_control(env, num_episodes = 1000000, alpha = 0.05, \n",
    "                                                gamma=.80, eps_start=1.0, eps_decay=.99995, eps_min=0.01)"
   ]
  },
  {
   "cell_type": "code",
   "execution_count": 208,
   "metadata": {},
   "outputs": [
    {
     "data": {
      "image/png": "[encoded data removed]",
      "text/plain": [
       "<Figure size 720x432 with 1 Axes>"
      ]
     },
     "metadata": {
      "needs_background": "light"
     },
     "output_type": "display_data"
    }
   ],
   "source": [
    "plt.figure(figsize = (10, 6))\n",
    "plt.title('Mean reward at training step')\n",
    "plt.plot(reward_hist)\n",
    "plt.show()"
   ]
  },
  {
   "cell_type": "code",
   "execution_count": 209,
   "metadata": {},
   "outputs": [],
   "source": [
    "def update_Q_sarsa(alpha, gamma, Q, state, action, reward, next_state=None, next_action=None):\n",
    "    current = Q[state][action]\n",
    "    Qsa_next = Q[next_state][next_action] if next_state is not None else 0    \n",
    "    target = reward + (gamma * Qsa_next)\n",
    "    new_value = current + (alpha * (target - current))\n",
    "    return new_value\n",
    "\n",
    "def epsilon_greedy(Q, state, nA, eps):\n",
    "    if random.random() > eps:\n",
    "        return np.argmax(Q[state])\n",
    "    else:\n",
    "        return random.choice(np.arange(env.action_space.n))\n",
    "    \n",
    "def sarsa(env, num_episodes, alpha, gamma=1.0, epsmin=0.01):\n",
    "    nA = env.action_space.n\n",
    "    Q = defaultdict(lambda: np.zeros(nA))\n",
    "    cum_reward = []\n",
    "    reward_hist = []\n",
    "   \n",
    "    for i_episode in range(1, num_episodes+1):\n",
    "        if i_episode % 1000 == 0:\n",
    "            print(\"\\rEpisode {}/{}.\".format(i_episode, num_episodes), end=\"\")\n",
    "            sys.stdout.flush()\n",
    "        score = 0\n",
    "        state = env.reset()\n",
    "        \n",
    "        eps = max(1.0 / i_episode, epsmin)\n",
    "        action = epsilon_greedy(Q, state, nA, eps)\n",
    "        \n",
    "        while True:\n",
    "            next_state, reward, done, info = env.step(action)\n",
    "            score += reward\n",
    "            if not done:\n",
    "                next_action = epsilon_greedy(Q, next_state, nA, eps)\n",
    "                Q[state][action] = update_Q_sarsa(alpha, gamma, Q, \\\n",
    "                                                  state, action, reward, next_state, next_action)\n",
    "                \n",
    "                state = next_state\n",
    "                action = next_action\n",
    "            if done:\n",
    "                Q[state][action] = update_Q_sarsa(alpha, gamma, Q, \\\n",
    "                                                  state, action, reward)\n",
    "                cum_reward.append(reward)\n",
    "                break\n",
    "        if i_episode % 50000 == 0:\n",
    "            avg_reward = []\n",
    "            for i in tqdm_notebook(range(100000)):\n",
    "                episode = generate_episode_from_Q(env, Q, .0, nA)\n",
    "                avg_reward.append(episode[-1][-1])\n",
    "            reward_hist.append(np.mean(avg_reward))\n",
    "    return Q, cum_reward, reward_hist"
   ]
  },
  {
   "cell_type": "code",
   "execution_count": null,
   "metadata": {},
   "outputs": [
    {
     "name": "stdout",
     "output_type": "stream",
     "text": [
      "Episode 50000/5000000."
     ]
    },
    {
     "data": {
      "application/vnd.jupyter.widget-view+json": {
       "model_id": "4facda685c4245e6bd8b918afd3c9bb2",
       "version_major": 2,
       "version_minor": 0
      },
      "text/plain": [
       "HBox(children=(IntProgress(value=0, max=100000), HTML(value='')))"
      ]
     },
     "metadata": {},
     "output_type": "display_data"
    },
    {
     "name": "stdout",
     "output_type": "stream",
     "text": [
      "Episode 100000/5000000."
     ]
    },
    {
     "data": {
      "application/vnd.jupyter.widget-view+json": {
       "model_id": "381e8a2831c54484a6e5890294114272",
       "version_major": 2,
       "version_minor": 0
      },
      "text/plain": [
       "HBox(children=(IntProgress(value=0, max=100000), HTML(value='')))"
      ]
     },
     "metadata": {},
     "output_type": "display_data"
    }
   ],
   "source": [
    "# obtain the estimated optimal policy and corresponding action-value function\n",
    "Q_sarsa, cum_reward, reward_hist = sarsa(env, 5000000, 0.05, gamma=.2)"
   ]
  },
  {
   "cell_type": "code",
   "execution_count": 225,
   "metadata": {},
   "outputs": [
    {
     "data": {
      "image/png": "[encoded data removed]",
      "text/plain": [
       "<Figure size 720x432 with 1 Axes>"
      ]
     },
     "metadata": {
      "needs_background": "light"
     },
     "output_type": "display_data"
    }
   ],
   "source": [
    "plt.figure(figsize = (10, 6))\n",
    "plt.title('Mean reward at training step')\n",
    "plt.plot(reward_hist)\n",
    "plt.show()"
   ]
  },
  {
   "cell_type": "markdown",
   "metadata": {},
   "source": [
    "plt.figure(figsize = (10, 6))\n",
    "plt.title('Mean cumulative reward')\n",
    "plt.plot(np.cumsum(cum_reward) / np.arange(1, 500001))\n",
    "plt.show()\n",
    "(np.cumsum(cum_reward) / np.arange(1, 500001))[-5:]"
   ]
  },
  {
   "cell_type": "code",
   "execution_count": null,
   "metadata": {},
   "outputs": [],
   "source": []
  }
 ],
 "metadata": {
  "kernelspec": {
   "display_name": "Python 3",
   "language": "python",
   "name": "python3"
  },
  "language_info": {
   "codemirror_mode": {
    "name": "ipython",
    "version": 3
   },
   "file_extension": ".py",
   "mimetype": "text/x-python",
   "name": "python",
   "nbconvert_exporter": "python",
   "pygments_lexer": "ipython3",
   "version": "3.7.3"
  }
 },
 "nbformat": 4,
 "nbformat_minor": 2
}
